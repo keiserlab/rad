{
 "cells": [
  {
   "cell_type": "code",
   "execution_count": null,
   "metadata": {},
   "outputs": [],
   "source": [
    "import random\n",
    "import pickle\n",
    "import multiprocessing\n",
    "import numpy as np\n",
    "import matplotlib.pyplot as plt\n",
    "from tqdm import tqdm\n",
    "from rdkit import Chem, DataStructs, RDLogger\n",
    "from rdkit.Chem import AllChem\n",
    "\n",
    "from rad.traverser import RADTraverser\n",
    "from usearch.index import Index\n",
    "\n",
    "# Disable rdkit error logging to keep output clean\n",
    "RDLogger.DisableLog('rdApp.*')  "
   ]
  },
  {
   "cell_type": "code",
   "execution_count": null,
   "metadata": {},
   "outputs": [],
   "source": [
    "# Set the number of workers for fingerprint generation and HNSW traversal\n",
    "N_WORKERS = 8"
   ]
  },
  {
   "cell_type": "markdown",
   "metadata": {},
   "source": [
    "### Load the DUDEZ DOCK dataset"
   ]
  },
  {
   "cell_type": "code",
   "execution_count": null,
   "metadata": {},
   "outputs": [],
   "source": [
    "!curl -O https://zenodo.org/records/10989077/files/dudez_dock_scores.pkl"
   ]
  },
  {
   "cell_type": "code",
   "execution_count": null,
   "metadata": {},
   "outputs": [],
   "source": [
    "with open('dudez_dock_scores.pkl', 'rb') as f:\n",
    "    dudez_data = pickle.load(f)"
   ]
  },
  {
   "cell_type": "code",
   "execution_count": null,
   "metadata": {},
   "outputs": [],
   "source": [
    "# Zinc ID, SMILES, score dictionary\n",
    "data_list = [(zid, dudez_data[zid][0], dudez_data[zid][1]) for zid in dudez_data]\n",
    "\n",
    "# Shuffle the data\n",
    "random.shuffle(data_list)"
   ]
  },
  {
   "cell_type": "markdown",
   "metadata": {},
   "source": [
    "### Set parameters for fingerprints and generate them"
   ]
  },
  {
   "cell_type": "code",
   "execution_count": null,
   "metadata": {},
   "outputs": [],
   "source": [
    "FP_LENGTH = 1024\n",
    "FP_RADIUS = 2"
   ]
  },
  {
   "cell_type": "code",
   "execution_count": null,
   "metadata": {},
   "outputs": [],
   "source": [
    "def generate_fingerprint(args):\n",
    "    zid, smi, scores = args\n",
    "    mol = Chem.MolFromSmiles(smi)\n",
    "    if mol is None:\n",
    "        return None\n",
    "    fp = AllChem.GetMorganFingerprintAsBitVect(mol, radius=FP_RADIUS, nBits=FP_LENGTH)\n",
    "    arr = np.zeros((FP_LENGTH,), dtype=np.uint8)\n",
    "    DataStructs.ConvertToNumpyArray(fp, arr)\n",
    "    return np.packbits(arr), scores"
   ]
  },
  {
   "cell_type": "code",
   "execution_count": null,
   "metadata": {},
   "outputs": [],
   "source": [
    "with multiprocessing.Pool(N_WORKERS) as p:\n",
    "    results = list(tqdm(p.imap(generate_fingerprint, data_list), total=len(data_list), desc=\"Generating Fingerprints\"))\n",
    "\n",
    "# Filter molecules that failed fingerprint generation\n",
    "results = list(filter(None, results))\n",
    "\n",
    "# Format fingerprints and create keys for HNSW\n",
    "fps, scores = zip(*results)\n",
    "fps = np.vstack(fps)\n",
    "keys = np.arange(len(fps))"
   ]
  },
  {
   "cell_type": "markdown",
   "metadata": {},
   "source": [
    "### Set parameters for HNSW and construct it"
   ]
  },
  {
   "cell_type": "code",
   "execution_count": null,
   "metadata": {},
   "outputs": [],
   "source": [
    "EF_CONSTRUCTION = 400\n",
    "M = 16"
   ]
  },
  {
   "cell_type": "code",
   "execution_count": null,
   "metadata": {},
   "outputs": [],
   "source": [
    "hnsw = Index(\n",
    "    ndim = FP_LENGTH,\n",
    "    dtype='b1',\n",
    "    metric='tanimoto',\n",
    "    connectivity = M,\n",
    "    expansion_add = EF_CONSTRUCTION\n",
    ")"
   ]
  },
  {
   "cell_type": "code",
   "execution_count": null,
   "metadata": {},
   "outputs": [],
   "source": [
    "hnsw.add(keys, fps, log=\"Building HNSW\")"
   ]
  },
  {
   "cell_type": "markdown",
   "metadata": {},
   "source": [
    "### Define Scoring Function and Set Up RADTraverser\n",
    "##### This does two things:\n",
    "1. Starts a process that handles HNSW neighbor queries\n",
    "2. Starts a process that runs a redis-server for traversal logic (or connects to an existing redis server)"
   ]
  },
  {
   "cell_type": "code",
   "execution_count": null,
   "metadata": {},
   "outputs": [],
   "source": [
    "RECEPTOR = \"LCK\""
   ]
  },
  {
   "cell_type": "code",
   "execution_count": null,
   "metadata": {},
   "outputs": [],
   "source": [
    "def score_fn(node_key):\n",
    "    if RECEPTOR in scores[node_key]:\n",
    "        return scores[node_key][RECEPTOR]\n",
    "    else:\n",
    "        return 9999"
   ]
  },
  {
   "cell_type": "code",
   "execution_count": null,
   "metadata": {},
   "outputs": [],
   "source": [
    "traverser = RADTraverser(hnsw=hnsw, scoring_fn=score_fn)"
   ]
  },
  {
   "cell_type": "markdown",
   "metadata": {},
   "source": [
    "### \"Prime\" the traversal - initialize queue with top layer nodes"
   ]
  },
  {
   "cell_type": "code",
   "execution_count": null,
   "metadata": {},
   "outputs": [],
   "source": [
    "traverser.prime()"
   ]
  },
  {
   "cell_type": "markdown",
   "metadata": {},
   "source": [
    "### Perform the Traversal"
   ]
  },
  {
   "cell_type": "code",
   "execution_count": null,
   "metadata": {},
   "outputs": [],
   "source": [
    "NUM_TO_TRAVERSE = 100_000 # Maximum number of molecules to score"
   ]
  },
  {
   "cell_type": "code",
   "execution_count": null,
   "metadata": {},
   "outputs": [],
   "source": [
    "# Normally will be able to use >1 worker but there's a bug for now\n",
    "# This step should still only take about a min or two for traversering 100,000\n",
    "traverser.traverse(n_workers=1, n_to_score=NUM_TO_TRAVERSE)"
   ]
  },
  {
   "cell_type": "markdown",
   "metadata": {},
   "source": [
    "### Graph Enrichment Plots"
   ]
  },
  {
   "cell_type": "code",
   "execution_count": null,
   "metadata": {},
   "outputs": [],
   "source": [
    "VIRTUAL_ACTIVE_CUTOFF = 100"
   ]
  },
  {
   "cell_type": "code",
   "execution_count": null,
   "metadata": {},
   "outputs": [],
   "source": [
    "receptor_scores = []\n",
    "for node_key, node_score in enumerate(scores):\n",
    "    if RECEPTOR in node_score:\n",
    "        receptor_scores.append((node_key, node_score[RECEPTOR]))\n",
    "    else:\n",
    "        receptor_scores.append((node_key, 9999))\n",
    "\n",
    "receptor_scores.sort(key=lambda x:x[1])\n",
    "\n",
    "virtual_actives = set([node_key for node_key,_ in receptor_scores[:VIRTUAL_ACTIVE_CUTOFF]])"
   ]
  },
  {
   "cell_type": "code",
   "execution_count": null,
   "metadata": {},
   "outputs": [],
   "source": [
    "x = []\n",
    "y = []\n",
    "mols_traversed = 0\n",
    "va_found = 0\n",
    "for key, score in traverser.scored_set:\n",
    "    mols_traversed += 1\n",
    "    if key in virtual_actives:\n",
    "        va_found += 1\n",
    "    x.append(mols_traversed)\n",
    "    y.append(va_found)\n",
    "\n",
    "y = np.array(y) / VIRTUAL_ACTIVE_CUTOFF"
   ]
  },
  {
   "cell_type": "code",
   "execution_count": null,
   "metadata": {},
   "outputs": [],
   "source": [
    "plt.plot(x, y)\n",
    "plt.ylim(0,1)\n",
    "plt.xlabel(\"Number of Molecules Scored\")\n",
    "plt.ylabel(\"Percent of Virtual Actives Found\")\n",
    "plt.title(f\"Enrichment Plot for RAD of {RECEPTOR}\")"
   ]
  },
  {
   "cell_type": "markdown",
   "metadata": {},
   "source": [
    "### Shuts down HNSW and redis server processes"
   ]
  },
  {
   "cell_type": "code",
   "execution_count": null,
   "metadata": {},
   "outputs": [],
   "source": [
    "traverser.shutdown()"
   ]
  }
 ],
 "metadata": {
  "kernelspec": {
   "display_name": "Python 3 (ipykernel)",
   "language": "python",
   "name": "python3"
  },
  "language_info": {
   "codemirror_mode": {
    "name": "ipython",
    "version": 3
   },
   "file_extension": ".py",
   "mimetype": "text/x-python",
   "name": "python",
   "nbconvert_exporter": "python",
   "pygments_lexer": "ipython3",
   "version": "3.12.3"
  }
 },
 "nbformat": 4,
 "nbformat_minor": 2
}
