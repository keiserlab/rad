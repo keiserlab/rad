{
 "cells": [
  {
   "cell_type": "code",
   "execution_count": null,
   "metadata": {},
   "outputs": [],
   "source": [
    "import pickle\n",
    "import numpy as np\n",
    "import matplotlib.pyplot as plt\n",
    "from tqdm import tqdm\n",
    "from rdkit import Chem, DataStructs, RDLogger\n",
    "from rdkit.Chem import AllChem\n",
    "\n",
    "from rad.construction import getGraphs\n",
    "from rad.traversal import traverseHNSW\n",
    "\n",
    "# Disable rdkit error logging to keep output clean\n",
    "RDLogger.DisableLog('rdApp.*')  "
   ]
  },
  {
   "cell_type": "markdown",
   "metadata": {},
   "source": [
    "### Load the DUDEZ DOCK dataset"
   ]
  },
  {
   "cell_type": "code",
   "execution_count": null,
   "metadata": {},
   "outputs": [],
   "source": [
    "!wget https://zenodo.org/records/10989077/files/dudez_dock_scores.pkl"
   ]
  },
  {
   "cell_type": "code",
   "execution_count": null,
   "metadata": {},
   "outputs": [],
   "source": [
    "with open('dudez_dock_scores.pkl', 'rb') as f:\n",
    "    dudez_data = pickle.load(f)"
   ]
  },
  {
   "cell_type": "markdown",
   "metadata": {},
   "source": [
    "### Set parameters for fingerprints and generate them"
   ]
  },
  {
   "cell_type": "code",
   "execution_count": null,
   "metadata": {},
   "outputs": [],
   "source": [
    "FP_LENGTH = 1024\n",
    "FP_RADIUS = 2"
   ]
  },
  {
   "cell_type": "code",
   "execution_count": null,
   "metadata": {},
   "outputs": [],
   "source": [
    "dudez_fps = []\n",
    "dudez_scores = {}\n",
    "node_id = 0\n",
    "\n",
    "for zid in tqdm(dudez_data, total=len(dudez_data), desc=\"Generating Fingeprints\"):\n",
    "    smi = dudez_data[zid][0]\n",
    "    scores = dudez_data[zid][1]\n",
    "\n",
    "    # Some smiles will fail molecule generation. We just skip them\n",
    "    mol = Chem.MolFromSmiles(smi)\n",
    "    if mol is None:\n",
    "        continue\n",
    "\n",
    "    # Convert rdkit bit vect fingerprint to numpy array\n",
    "    arr = np.zeros((1,), dtype=np.uint8)\n",
    "    fp = AllChem.GetMorganFingerprintAsBitVect(mol, radius=FP_RADIUS, nBits=FP_LENGTH)\n",
    "    DataStructs.ConvertToNumpyArray(fp, arr)\n",
    "\n",
    "    # IMPORTANT: Make sure to pack bit fingerprints - it vastly speeds up HNSW construction\n",
    "    dudez_fps.append(np.packbits(arr))\n",
    "    dudez_scores[node_id] = scores\n",
    "    node_id += 1\n",
    "\n",
    "dudez_fps = np.array(dudez_fps)"
   ]
  },
  {
   "cell_type": "markdown",
   "metadata": {},
   "source": [
    "### Set parameters for HNSW and construct it"
   ]
  },
  {
   "cell_type": "code",
   "execution_count": null,
   "metadata": {},
   "outputs": [],
   "source": [
    "EF_CONSTRUCTION = 400\n",
    "M = 16"
   ]
  },
  {
   "cell_type": "code",
   "execution_count": null,
   "metadata": {},
   "outputs": [],
   "source": [
    "hnsw_layer_graphs = getGraphs(dudez_fps, ef_construction=EF_CONSTRUCTION, M=M)"
   ]
  },
  {
   "cell_type": "markdown",
   "metadata": {},
   "source": [
    "### Traverse HNSW using scores from 1 receptor"
   ]
  },
  {
   "cell_type": "code",
   "execution_count": null,
   "metadata": {},
   "outputs": [],
   "source": [
    "RECEPTOR = \"AA2AR\"\n",
    "NUM_TO_TRAVERSE = 100_000 # Maximum number of molecules to score"
   ]
  },
  {
   "cell_type": "code",
   "execution_count": null,
   "metadata": {},
   "outputs": [],
   "source": [
    "def score_fn(node_id):\n",
    "    if RECEPTOR in dudez_scores[node_id]:\n",
    "        return dudez_scores[node_id][RECEPTOR]\n",
    "    else:\n",
    "        return np.inf"
   ]
  },
  {
   "cell_type": "code",
   "execution_count": null,
   "metadata": {},
   "outputs": [],
   "source": [
    "traversed_nodes = traverseHNSW(hnsw_layer_graphs, score_fn, NUM_TO_TRAVERSE)"
   ]
  },
  {
   "cell_type": "markdown",
   "metadata": {},
   "source": [
    "### Graph Enrichment Plots"
   ]
  },
  {
   "cell_type": "code",
   "execution_count": null,
   "metadata": {},
   "outputs": [],
   "source": [
    "VIRTUAL_ACTIVE_CUTOFF = 100"
   ]
  },
  {
   "cell_type": "code",
   "execution_count": null,
   "metadata": {},
   "outputs": [],
   "source": [
    "receptor_scores = []\n",
    "for node_id, scores in dudez_scores.items():\n",
    "    if RECEPTOR in scores:\n",
    "        receptor_scores.append((node_id, scores[RECEPTOR]))\n",
    "    else:\n",
    "        receptor_scores.append((node_id, np.inf))\n",
    "\n",
    "receptor_scores.sort(key=lambda x:x[1])\n",
    "\n",
    "virtual_actives = [node_id for node_id,_ in receptor_scores[:VIRTUAL_ACTIVE_CUTOFF]]"
   ]
  },
  {
   "cell_type": "code",
   "execution_count": null,
   "metadata": {},
   "outputs": [],
   "source": [
    "plot_mols_traversed = np.linspace(0,NUM_TO_TRAVERSE,100, dtype=int)\n",
    "plot_virtual_actives_recovered = []\n",
    "for n in plot_mols_traversed:\n",
    "    mols_traversed = set(list(traversed_nodes.keys())[:n])\n",
    "    virtual_actives_recovered = sum([True if node_id in mols_traversed else False for node_id in virtual_actives])\n",
    "    plot_virtual_actives_recovered.append(virtual_actives_recovered/len(virtual_actives))"
   ]
  },
  {
   "cell_type": "code",
   "execution_count": null,
   "metadata": {},
   "outputs": [],
   "source": [
    "plt.plot(plot_mols_traversed, plot_virtual_actives_recovered)\n",
    "plt.ylim(0,1)\n",
    "plt.xlabel(\"Number of Molecules Scored\")\n",
    "plt.ylabel(\"Percent of Virtual Actives Found\")\n",
    "plt.title(f\"Enrichment Plot for RAD of {RECEPTOR}\")"
   ]
  }
 ],
 "metadata": {
  "kernelspec": {
   "display_name": "Python 3 (ipykernel)",
   "language": "python",
   "name": "python3"
  }
 },
 "nbformat": 4,
 "nbformat_minor": 2
}
