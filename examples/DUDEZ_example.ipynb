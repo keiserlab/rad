{
 "cells": [
  {
   "cell_type": "code",
   "execution_count": 25,
   "metadata": {},
   "outputs": [],
   "source": [
    "import random\n",
    "import pickle\n",
    "import multiprocessing\n",
    "import sqlite3\n",
    "import tempfile\n",
    "import os\n",
    "import numpy as np\n",
    "import matplotlib.pyplot as plt\n",
    "from tqdm import tqdm\n",
    "from rdkit import Chem, DataStructs, RDLogger\n",
    "from rdkit.Chem import AllChem\n",
    "\n",
    "from rad.hnsw_service import create_local_hnsw_service\n",
    "from rad.traverser import RADTraverser\n",
    "from usearch.index import Index\n",
    "\n",
    "# Disable rdkit error logging to keep output clean\n",
    "RDLogger.DisableLog('rdApp.*')"
   ]
  },
  {
   "cell_type": "code",
   "execution_count": 26,
   "metadata": {},
   "outputs": [],
   "source": [
    "# Set the number of workers for fingerprint generation and HNSW traversal\n",
    "N_WORKERS = 8"
   ]
  },
  {
   "cell_type": "markdown",
   "metadata": {},
   "source": [
    "### Load the DUDEZ DOCK dataset"
   ]
  },
  {
   "cell_type": "code",
   "execution_count": null,
   "metadata": {},
   "outputs": [],
   "source": [
    "!curl -O https://zenodo.org/records/10989077/files/dudez_dock_scores.pkl"
   ]
  },
  {
   "cell_type": "code",
   "execution_count": 27,
   "metadata": {},
   "outputs": [
    {
     "name": "stdout",
     "output_type": "stream",
     "text": [
      "Loaded 100000 molecules from DUDEZ dataset\n"
     ]
    }
   ],
   "source": [
    "with open('dudez_dock_scores.pkl', 'rb') as f:\n",
    "    data_list = [\n",
    "        (zid, smiles, score)\n",
    "        for zid, (smiles, score) in pickle.load(f).items()\n",
    "    ]\n",
    "\n",
    "# Shuffle the data\n",
    "random.shuffle(data_list)"
   ]
  },
  {
   "cell_type": "markdown",
   "metadata": {},
   "source": [
    "### Set parameters for fingerprints and generate them"
   ]
  },
  {
   "cell_type": "code",
   "execution_count": 29,
   "metadata": {},
   "outputs": [],
   "source": [
    "FP_LENGTH = 1024\n",
    "FP_RADIUS = 2"
   ]
  },
  {
   "cell_type": "code",
   "execution_count": 30,
   "metadata": {},
   "outputs": [],
   "source": [
    "def generate_fingerprint(args):\n",
    "    zid, smi, scores = args\n",
    "    mol = Chem.MolFromSmiles(smi)\n",
    "    if mol is None:\n",
    "        return None\n",
    "    fp = AllChem.GetMorganFingerprintAsBitVect(mol, radius=FP_RADIUS, nBits=FP_LENGTH)\n",
    "    arr = np.zeros((FP_LENGTH,), dtype=np.uint8)\n",
    "    DataStructs.ConvertToNumpyArray(fp, arr)\n",
    "    return np.packbits(arr), smi, scores  # Return fingerprint, SMILES, and scores dict"
   ]
  },
  {
   "cell_type": "code",
   "execution_count": 31,
   "metadata": {},
   "outputs": [
    {
     "name": "stderr",
     "output_type": "stream",
     "text": [
      "Generating Fingerprints: 100%|███████████████████████████████████████████████████████████████████████████████████████████████| 100000/100000 [00:15<00:00, 6349.70it/s]\n"
     ]
    },
    {
     "name": "stdout",
     "output_type": "stream",
     "text": [
      "Generated 99998 fingerprints with SMILES and scores\n",
      "Created mapping for 99981 unique SMILES molecules\n"
     ]
    }
   ],
   "source": [
    "with multiprocessing.Pool(N_WORKERS) as p:\n",
    "    results = list(tqdm(p.imap(generate_fingerprint, data_list), total=len(data_list), desc=\"Generating Fingerprints\"))\n",
    "\n",
    "# Filter molecules that failed fingerprint generation\n",
    "results = list(filter(None, results))\n",
    "\n",
    "# Format fingerprints and create keys for HNSW\n",
    "fps, smiles_list, scores_list = zip(*results)\n",
    "fps = np.vstack(fps)\n",
    "keys = np.arange(len(fps))\n",
    "\n",
    "# Create SMILES → scores mapping for use in the scoring function\n",
    "smiles_to_scores = {}\n",
    "for i, (smiles, scores_dict) in enumerate(zip(smiles_list, scores_list)):\n",
    "    smiles_to_scores[smiles] = scores_dict"
   ]
  },
  {
   "cell_type": "markdown",
   "metadata": {},
   "source": [
    "### Set parameters for HNSW and construct it"
   ]
  },
  {
   "cell_type": "code",
   "execution_count": 43,
   "metadata": {},
   "outputs": [],
   "source": [
    "EF_CONSTRUCTION = 400\n",
    "M = 16"
   ]
  },
  {
   "cell_type": "code",
   "execution_count": 44,
   "metadata": {},
   "outputs": [
    {
     "name": "stdout",
     "output_type": "stream",
     "text": [
      "Added 99998 fingerprints to HNSW index\n"
     ]
    }
   ],
   "source": [
    "hnsw = Index(\n",
    "    ndim = FP_LENGTH,\n",
    "    dtype='b1',\n",
    "    metric='tanimoto',\n",
    "    connectivity = M,\n",
    "    expansion_add = EF_CONSTRUCTION\n",
    ")\n",
    "\n",
    "# Add fingerprints to HNSW index\n",
    "hnsw.add(keys, fps, log=\"Building HNSW\")"
   ]
  },
  {
   "cell_type": "markdown",
   "metadata": {},
   "source": [
    "### Create SQLite database mapping HNSW nodes to SMILES"
   ]
  },
  {
   "cell_type": "code",
   "execution_count": 45,
   "metadata": {},
   "outputs": [
    {
     "name": "stdout",
     "output_type": "stream",
     "text": [
      "Created SQLite database 'dudez_molecules.db' with 99998 SMILES entries\n",
      "Database maps HNSW keys (stored as node_id) → SMILES\n",
      "HNSW keys range: 0 to 99997\n"
     ]
    }
   ],
   "source": [
    "# Create SQLite database for SMILES lookup\n",
    "db_path = \"dudez_molecules.db\"\n",
    "if os.path.exists(db_path):\n",
    "    os.remove(db_path)\n",
    "\n",
    "conn = sqlite3.connect(db_path)\n",
    "cursor = conn.cursor()\n",
    "\n",
    "# Create nodes table\n",
    "cursor.execute(\"\"\"\n",
    "    CREATE TABLE nodes (\n",
    "        node_key INTEGER PRIMARY KEY,\n",
    "        smi TEXT NOT NULL\n",
    "    )\n",
    "\"\"\")\n",
    "\n",
    "# Insert SMILES data matching HNSW keys \n",
    "for node_key, smiles in zip(keys, smiles_list):\n",
    "    cursor.execute(\"INSERT INTO nodes (node_key, smi) VALUES (?, ?)\", (int(node_key), str(smiles)))\n",
    "\n",
    "# Create index for performance\n",
    "cursor.execute(\"CREATE INDEX idx_nodes_node_id ON nodes(node_key)\")\n",
    "\n",
    "conn.commit()\n",
    "conn.close()"
   ]
  },
  {
   "cell_type": "markdown",
   "metadata": {},
   "source": [
    "### Define SMILES-Based Scoring Function"
   ]
  },
  {
   "cell_type": "code",
   "execution_count": null,
   "metadata": {},
   "outputs": [],
   "source": [
    "RECEPTOR = \"AA2AR\""
   ]
  },
  {
   "cell_type": "code",
   "execution_count": 46,
   "metadata": {},
   "outputs": [
    {
     "name": "stdout",
     "output_type": "stream",
     "text": [
      "Testing scoring function:\n",
      "SMILES: CC1=C(C(=O)N[C@H](C)C2=NC3=CC=CC=C3N2)CCO1\n",
      "Score for AA2AR: -24.106894\n",
      "Available receptors: ['AA2AR', 'ADA', 'CXCR4', 'EGFR', 'FABP4', 'GLCM', 'HMDH', 'KIT', 'MAPK2', 'NRAM', 'PLK1', 'PUR2', 'TRYB1', 'ABL1', 'ADRB2', 'D4', 'FA10', 'FGFR1', 'HDAC8', 'HS90A', 'KITH', 'MK01', 'PARP1', 'PPARA', 'RENI', 'THRB', 'UROK', 'ACES', 'AMPC', 'CSF1R', 'DEF', 'FA7', 'FKB1A', 'HIVPR', 'ITAL', 'LCK', 'MT1', 'PTN1', 'ROCK1', 'SRC', 'TRY1', 'XIAP']\n"
     ]
    }
   ],
   "source": [
    "def score_fn(smiles: str) -> float:\n",
    "    \"\"\"\n",
    "    Score a molecule using its SMILES representation and actual DUDEZ scores.\n",
    "    \n",
    "    Args:\n",
    "        smiles: SMILES string representing the molecular structure\n",
    "        \n",
    "    Returns:\n",
    "        float: Actual docking score for the receptor from DUDEZ dataset (lower is better)\n",
    "    \"\"\"\n",
    "    # Look up the actual scores for this SMILES\n",
    "    if smiles in smiles_to_scores:\n",
    "        scores_dict = smiles_to_scores[smiles]\n",
    "        if RECEPTOR in scores_dict:\n",
    "            return scores_dict[RECEPTOR]\n",
    "    \n",
    "    # Return high score (bad) if no score found\n",
    "    return 9999.0"
   ]
  },
  {
   "cell_type": "markdown",
   "metadata": {},
   "source": [
    "### Set up the HNSW service, RADTraverser, and do the traversal"
   ]
  },
  {
   "cell_type": "code",
   "execution_count": null,
   "metadata": {},
   "outputs": [],
   "source": [
    "# Create HNSW service that serves neighbor smiles for traversal\n",
    "hnsw_service = create_local_hnsw_service(hnsw, database_path=db_path)"
   ]
  },
  {
   "cell_type": "code",
   "execution_count": 47,
   "metadata": {},
   "outputs": [
    {
     "name": "stdout",
     "output_type": "stream",
     "text": [
      "Redis server not start yet - waiting 1 second\n",
      "RADTraverser created with SMILES integration\n"
     ]
    }
   ],
   "source": [
    "# Create traverser with scoring function\n",
    "traverser = RADTraverser(hnsw_service=hnsw_service, scoring_fn=score_fn)"
   ]
  },
  {
   "cell_type": "code",
   "execution_count": 48,
   "metadata": {},
   "outputs": [],
   "source": [
    "# \"Prime\" the traversal - initialize queue with top layer nodes\n",
    "traverser.prime()"
   ]
  },
  {
   "cell_type": "code",
   "execution_count": 49,
   "metadata": {},
   "outputs": [
    {
     "name": "stderr",
     "output_type": "stream",
     "text": [
      "Error in coordination monitor: cannot join current thread\n"
     ]
    }
   ],
   "source": [
    "# Do the traversal\n",
    "NUM_TO_TRAVERSE = 100_000\n",
    "traverser.traverse(n_workers=N_WORKERS, n_to_score=NUM_TO_TRAVERSE)"
   ]
  },
  {
   "cell_type": "markdown",
   "metadata": {},
   "source": [
    "### Graph Enrichment Plots"
   ]
  },
  {
   "cell_type": "code",
   "execution_count": null,
   "metadata": {},
   "outputs": [],
   "source": [
    "VIRTUAL_ACTIVE_CUTOFF = 100"
   ]
  },
  {
   "cell_type": "code",
   "execution_count": 50,
   "metadata": {},
   "outputs": [
    {
     "name": "stdout",
     "output_type": "stream",
     "text": [
      "Virtual actives (top 1000 molecules):\n",
      "Best score: -42.32\n",
      "Worst score in top 1000: -32.21\n",
      "Virtual actives array indices (keys): [3561, 27251, 35152, 36491, 52345, 56568, 62644, 66970, 86727, 96758]...\n",
      "Virtual actives node_ids: [np.int64(261), np.int64(301), np.int64(507), np.int64(587), np.int64(686), np.int64(832), np.int64(928), np.int64(1003), np.int64(1093), np.int64(1211)]...\n"
     ]
    }
   ],
   "source": [
    "receptor_scores = []\n",
    "for node_key, node_scores in enumerate(scores_list):\n",
    "    if RECEPTOR in node_scores:\n",
    "        receptor_scores.append((node_key, node_scores[RECEPTOR]))  # (array_index, score)\n",
    "    else:\n",
    "        receptor_scores.append((node_key, 9999))\n",
    "\n",
    "receptor_scores.sort(key=lambda x: x[1])\n",
    "\n",
    "# Get the best scoring node keys and convert to node ids\n",
    "best_keys = [array_index for array_index, _ in receptor_scores[:VIRTUAL_ACTIVE_CUTOFF]]\n",
    "best_node_ids = hnsw.get_node_ids_from_keys(best_keys)\n",
    "virtual_actives = set(best_node_ids)"
   ]
  },
  {
   "cell_type": "code",
   "execution_count": 51,
   "metadata": {},
   "outputs": [
    {
     "name": "stdout",
     "output_type": "stream",
     "text": [
      "Analyzing 25218 scored molecules in traversal order...\n",
      "Found 766/1000 virtual actives in 25218 scored molecules\n",
      "Final enrichment: 76.6% of virtual actives found\n"
     ]
    }
   ],
   "source": [
    "# Get all scored molecules in traversal order\n",
    "all_results = traverser.get_molecules()\n",
    "\n",
    "x = []  # Number of molecules traversed\n",
    "y = []  # Number of virtual actives found\n",
    "mols_traversed = 0\n",
    "va_found = 0\n",
    "\n",
    "for node_id, score, smiles in all_results:\n",
    "    mols_traversed += 1\n",
    "    if node_id in virtual_actives:\n",
    "        va_found += 1\n",
    "    x.append(mols_traversed)\n",
    "    y.append(va_found)\n",
    "\n",
    "# Convert to fraction of library and fraction of virtual actives\n",
    "total_molecules = len(hnsw)\n",
    "x_fraction = np.array(x) / total_molecules\n",
    "y_fraction = np.array(y) / VIRTUAL_ACTIVE_CUTOFF"
   ]
  },
  {
   "cell_type": "code",
   "execution_count": 54,
   "metadata": {},
   "outputs": [
    {
     "data": {
      "image/png": "[encoded data removed]",
      "text/plain": [
       "<Figure size 640x480 with 1 Axes>"
      ]
     },
     "metadata": {},
     "output_type": "display_data"
    },
    {
     "name": "stdout",
     "output_type": "stream",
     "text": [
      "Total library size: 99,998 molecules\n",
      "Fraction of library screened: 25.22%\n"
     ]
    }
   ],
   "source": [
    "plt.plot(x_fraction, y_fraction)\n",
    "plt.xlim(0, 1)\n",
    "plt.ylim(0, 1)\n",
    "plt.xlabel(\"Fraction of Library Screened\")\n",
    "plt.ylabel(\"Fraction of Virtual Actives Found\")\n",
    "plt.title(f\"Enrichment Plot for RAD of {RECEPTOR}\")\n",
    "plt.grid(True, alpha=0.3)\n",
    "\n",
    "random_baseline = x_fraction\n",
    "plt.plot(x_fraction, random_baseline, 'k--', alpha=0.3, label='Random selection')\n",
    "\n",
    "plt.tight_layout()\n",
    "plt.show()"
   ]
  },
  {
   "cell_type": "markdown",
   "metadata": {},
   "source": [
    "### Cleanup: Shutdown services and remove database"
   ]
  },
  {
   "cell_type": "code",
   "execution_count": 42,
   "metadata": {},
   "outputs": [
    {
     "name": "stdout",
     "output_type": "stream",
     "text": [
      "Removed database file: dudez_molecules.db\n",
      "RAD traverser shut down successfully\n"
     ]
    }
   ],
   "source": [
    "# Shutdown RAD traverser (closes HNSW service and Redis)\n",
    "traverser.shutdown()\n",
    "\n",
    "# Optional: Clean up database file\n",
    "if os.path.exists(db_path):\n",
    "    os.remove(db_path)\n",
    "    print(f\"Removed database file: {db_path}\")\n",
    "\n",
    "print(\"RAD traverser shut down successfully\")"
   ]
  }
 ],
 "metadata": {
  "kernelspec": {
   "display_name": "Python 3 (ipykernel)",
   "language": "python",
   "name": "python3"
  },
  "language_info": {
   "codemirror_mode": {
    "name": "ipython",
    "version": 3
   },
   "file_extension": ".py",
   "mimetype": "text/x-python",
   "name": "python",
   "nbconvert_exporter": "python",
   "pygments_lexer": "ipython3",
   "version": "3.11.13"
  }
 },
 "nbformat": 4,
 "nbformat_minor": 2
}
